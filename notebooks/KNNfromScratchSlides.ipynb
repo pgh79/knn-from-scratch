{
 "cells": [
  {
   "cell_type": "markdown",
   "metadata": {
    "slideshow": {
     "slide_type": "slide"
    }
   },
   "source": [
    "# Vanilla KNN: Classification and Regression"
   ]
  },
  {
   "cell_type": "markdown",
   "metadata": {},
   "source": [
    "**Python ITB**<br>\n",
    "**Makers Institute, Jalan Kyai Gede Utama No.11, Dago**<br>\n",
    "\n",
    "\n",
    "**Tuesday, 20 March 2018**"
   ]
  },
  {
   "cell_type": "markdown",
   "metadata": {
    "slideshow": {
     "slide_type": "slide"
    }
   },
   "source": [
    "# ABOUT ME\n",
    "\n",
    "## Amajid Sinar Guntara\n",
    "\n",
    "Medium: [amajidsinar](https://medium.com/@amajidsinar) | GitHub: [amajidsinar](https://github.com/amajidsinar)"
   ]
  },
  {
   "cell_type": "markdown",
   "metadata": {
    "slideshow": {
     "slide_type": "subslide"
    }
   },
   "source": [
    "# Contributors"
   ]
  },
  {
   "cell_type": "markdown",
   "metadata": {},
   "source": [
    "- Gilang Ardya ([gilangardya](https://github.com/gilangardya))\n",
    "- Albert Setiawan ([riajuualbert](https://github.com/riajuualbert))\n",
    "- Aris Budi Wibowo ([arisbw](https://github.com/arisbw))"
   ]
  },
  {
   "cell_type": "markdown",
   "metadata": {
    "slideshow": {
     "slide_type": "slide"
    }
   },
   "source": [
    "# Outline\n",
    "\n",
    "- Theory of KNN\n",
    "- KNN\n",
    "- Intro to Class\n",
    "- KNN w/ OOP\n",
    "- Intro to Tensor\n",
    "- Optimize KNN (w/ Tensor)"
   ]
  },
  {
   "cell_type": "markdown",
   "metadata": {
    "slideshow": {
     "slide_type": "slide"
    }
   },
   "source": [
    "You can also see this repository at: https://github.com/python-itb/knn-from-scratch"
   ]
  },
  {
   "cell_type": "markdown",
   "metadata": {
    "slideshow": {
     "slide_type": "slide"
    }
   },
   "source": [
    "# Classification vs Regression"
   ]
  },
  {
   "cell_type": "markdown",
   "metadata": {
    "slideshow": {
     "slide_type": "subslide"
    }
   },
   "source": [
    "<img src=\"./image/Classification-and-Regression-dataaspirant.png\" width=80%>"
   ]
  },
  {
   "cell_type": "markdown",
   "metadata": {
    "slideshow": {
     "slide_type": "slide"
    }
   },
   "source": [
    "# What is KNN?"
   ]
  },
  {
   "cell_type": "markdown",
   "metadata": {
    "slideshow": {
     "slide_type": "subslide"
    }
   },
   "source": [
    "<img src=\"./image/knn-visualization.png\" width=90%>"
   ]
  },
  {
   "cell_type": "markdown",
   "metadata": {
    "slideshow": {
     "slide_type": "subslide"
    }
   },
   "source": [
    "A simple algorithm that stores all available cases and classifies new cases based on a similarity measure (e.g., distance functions)."
   ]
  },
  {
   "cell_type": "markdown",
   "metadata": {
    "slideshow": {
     "slide_type": "subslide"
    }
   },
   "source": [
    "This model is a non-parametric (makes no assumption about data distribution) and instance-based (memorize data as \"knowledge\")."
   ]
  },
  {
   "cell_type": "markdown",
   "metadata": {
    "slideshow": {
     "slide_type": "subslide"
    }
   },
   "source": [
    "Basically, we can use KNN at ease while it comes in a **huge** computational cost if we use a big dataset."
   ]
  },
  {
   "cell_type": "markdown",
   "metadata": {},
   "source": [
    "So, in conclusion: this is a lazy algorithm but impractical if we want fast responses as we have more data to train."
   ]
  },
  {
   "cell_type": "markdown",
   "metadata": {
    "slideshow": {
     "slide_type": "slide"
    }
   },
   "source": [
    "# More of KNN"
   ]
  },
  {
   "cell_type": "markdown",
   "metadata": {
    "slideshow": {
     "slide_type": "subslide"
    }
   },
   "source": [
    "Let's say we want to predict _unseen_ observation. First, we calculate the distance between the data points that we have (training data) and that observation (test data)."
   ]
  },
  {
   "cell_type": "markdown",
   "metadata": {
    "slideshow": {
     "slide_type": ""
    }
   },
   "source": [
    "In this class, we use Euclidean distance."
   ]
  },
  {
   "cell_type": "markdown",
   "metadata": {},
   "source": [
    "$D_{(a,b)} = \\sqrt{(a_1-b_1)^2+(a_2-b_2)^2+...+(a_n+b_n)^2}$"
   ]
  },
  {
   "cell_type": "markdown",
   "metadata": {
    "slideshow": {
     "slide_type": "subslide"
    }
   },
   "source": [
    "Iterate all the the train data points until you have the distance data between train data and test data."
   ]
  },
  {
   "cell_type": "markdown",
   "metadata": {},
   "source": [
    "Count $k$ nearest neighbours and decide which one has the most vote. Then we label the test data with that result."
   ]
  },
  {
   "cell_type": "markdown",
   "metadata": {
    "slideshow": {
     "slide_type": "slide"
    }
   },
   "source": [
    "# Example"
   ]
  },
  {
   "cell_type": "markdown",
   "metadata": {
    "slideshow": {
     "slide_type": "subslide"
    }
   },
   "source": [
    "<center><img src=\"./image/KNN_example_2.png\" width=90%></center>"
   ]
  },
  {
   "cell_type": "markdown",
   "metadata": {
    "slideshow": {
     "slide_type": "slide"
    }
   },
   "source": [
    "# Let's Build from Scratch!\n",
    "Simple for loop and list"
   ]
  },
  {
   "cell_type": "markdown",
   "metadata": {
    "slideshow": {
     "slide_type": "slide"
    }
   },
   "source": [
    "# Classification"
   ]
  },
  {
   "cell_type": "markdown",
   "metadata": {
    "slideshow": {
     "slide_type": "subslide"
    }
   },
   "source": [
    "First, import the libraries that we will use later."
   ]
  },
  {
   "cell_type": "code",
   "execution_count": 1,
   "metadata": {
    "collapsed": true
   },
   "outputs": [],
   "source": [
    "from sklearn import datasets\n",
    "# from sklearn.cross_validation import train_test_split\n",
    "from sklearn.model_selection import train_test_split"
   ]
  },
  {
   "cell_type": "markdown",
   "metadata": {
    "slideshow": {
     "slide_type": "subslide"
    }
   },
   "source": [
    "Load the data"
   ]
  },
  {
   "cell_type": "code",
   "execution_count": 2,
   "metadata": {
    "collapsed": true
   },
   "outputs": [],
   "source": [
    "data = datasets.load_iris()"
   ]
  },
  {
   "cell_type": "code",
   "execution_count": 3,
   "metadata": {
    "collapsed": true
   },
   "outputs": [],
   "source": [
    "X = data.data\n",
    "y = data.target"
   ]
  },
  {
   "cell_type": "markdown",
   "metadata": {
    "slideshow": {
     "slide_type": "subslide"
    }
   },
   "source": [
    "Split the data to train and test data."
   ]
  },
  {
   "cell_type": "code",
   "execution_count": 4,
   "metadata": {
    "collapsed": true,
    "slideshow": {
     "slide_type": ""
    }
   },
   "outputs": [],
   "source": [
    "X_train, X_test, y_train, y_test = train_test_split(X, y, test_size=0.2, random_state=123)"
   ]
  },
  {
   "cell_type": "markdown",
   "metadata": {
    "slideshow": {
     "slide_type": "subslide"
    }
   },
   "source": [
    "Create the distance function that we want to use."
   ]
  },
  {
   "cell_type": "code",
   "execution_count": 5,
   "metadata": {
    "collapsed": true
   },
   "outputs": [],
   "source": [
    "# Input : list\n",
    "def euclideanDistance(l1, l2):\n",
    "    if (len(l1) == len(l2)):\n",
    "        dist = 0\n",
    "        for i in range(len(l1)):\n",
    "            dist += (l1[i] - l2[i])**2\n",
    "        return dist**0.5\n",
    "    else:\n",
    "        raise ValueError('Hehe, panjangnya beda gan')"
   ]
  },
  {
   "cell_type": "markdown",
   "metadata": {
    "slideshow": {
     "slide_type": "subslide"
    }
   },
   "source": [
    "Set the value of $k$."
   ]
  },
  {
   "cell_type": "code",
   "execution_count": 6,
   "metadata": {
    "collapsed": true
   },
   "outputs": [],
   "source": [
    "k = 5"
   ]
  },
  {
   "cell_type": "markdown",
   "metadata": {
    "slideshow": {
     "slide_type": "subslide"
    }
   },
   "source": [
    "Let's start predict the test data!"
   ]
  },
  {
   "cell_type": "code",
   "execution_count": 7,
   "metadata": {},
   "outputs": [
    {
     "name": "stdout",
     "output_type": "stream",
     "text": [
      "[2, 2, 2, 1, 0, 2, 1, 0, 0, 1, 2, 0, 1, 2, 2, 2, 0, 0, 1, 0, 0, 2, 0, 2, 0, 0, 0, 2, 2, 0]\n"
     ]
    }
   ],
   "source": [
    "y_test_predict = [] # target yang diprediksi\n",
    "\n",
    "for x_unknown in X_test:\n",
    "    neighbors_distance = []\n",
    "    \n",
    "    for x_known in X_train:\n",
    "        neighbors_distance.append(euclideanDistance(x_unknown, x_known))\n",
    "        \n",
    "    neighbors_distance_sorted_with_target = sorted(zip(neighbors_distance, y_train))\n",
    "    \n",
    "    k_nearest_neighbors_target = [items[1] for items in neighbors_distance_sorted_with_target[:k]]\n",
    "\n",
    "    # mode of knn : classification\n",
    "    y_test_predict.append(max(set(k_nearest_neighbors_target), key=k_nearest_neighbors_target.count))\n",
    "\n",
    "print (y_test_predict)"
   ]
  },
  {
   "cell_type": "markdown",
   "metadata": {
    "slideshow": {
     "slide_type": "subslide"
    }
   },
   "source": [
    "Evaluate our prediction."
   ]
  },
  {
   "cell_type": "code",
   "execution_count": 8,
   "metadata": {},
   "outputs": [
    {
     "name": "stdout",
     "output_type": "stream",
     "text": [
      "0.9666666666666667\n"
     ]
    }
   ],
   "source": [
    "n_benar = 0\n",
    "n_test = len(y_test)\n",
    "for i in range(n_test):\n",
    "    if (y_test_predict[i] == y_test[i]):\n",
    "        n_benar += 1\n",
    "print(n_benar/n_test)"
   ]
  },
  {
   "cell_type": "markdown",
   "metadata": {
    "slideshow": {
     "slide_type": "subslide"
    }
   },
   "source": [
    "Compare with the built-in functions from scikit-learn."
   ]
  },
  {
   "cell_type": "code",
   "execution_count": 9,
   "metadata": {},
   "outputs": [
    {
     "data": {
      "text/plain": [
       "KNeighborsClassifier(algorithm='auto', leaf_size=30, metric='minkowski',\n",
       "           metric_params=None, n_jobs=1, n_neighbors=5, p=2,\n",
       "           weights='uniform')"
      ]
     },
     "execution_count": 9,
     "metadata": {},
     "output_type": "execute_result"
    }
   ],
   "source": [
    "from sklearn.neighbors import KNeighborsClassifier\n",
    "knn = KNeighborsClassifier(n_neighbors=k)\n",
    "knn.fit(X_train, y_train)"
   ]
  },
  {
   "cell_type": "markdown",
   "metadata": {
    "slideshow": {
     "slide_type": "subslide"
    }
   },
   "source": [
    "🥁🥁🥁🥁"
   ]
  },
  {
   "cell_type": "code",
   "execution_count": 10,
   "metadata": {
    "slideshow": {
     "slide_type": "fragment"
    }
   },
   "outputs": [
    {
     "data": {
      "text/plain": [
       "0.96666666666666667"
      ]
     },
     "execution_count": 10,
     "metadata": {},
     "output_type": "execute_result"
    }
   ],
   "source": [
    "knn.score(X_test,y_test)"
   ]
  },
  {
   "cell_type": "markdown",
   "metadata": {
    "slideshow": {
     "slide_type": "slide"
    }
   },
   "source": [
    "# Regression"
   ]
  },
  {
   "cell_type": "markdown",
   "metadata": {
    "slideshow": {
     "slide_type": "subslide"
    }
   },
   "source": [
    "Load the data."
   ]
  },
  {
   "cell_type": "code",
   "execution_count": 11,
   "metadata": {
    "collapsed": true
   },
   "outputs": [],
   "source": [
    "data = datasets.load_boston()\n",
    "X = data.data\n",
    "y = data.target"
   ]
  },
  {
   "cell_type": "markdown",
   "metadata": {
    "slideshow": {
     "slide_type": "subslide"
    }
   },
   "source": [
    "Split the data to train and test data."
   ]
  },
  {
   "cell_type": "code",
   "execution_count": 12,
   "metadata": {
    "collapsed": true
   },
   "outputs": [],
   "source": [
    "X_train, X_test, y_train, y_test = train_test_split(X, y, test_size=0.2, random_state=123)"
   ]
  },
  {
   "cell_type": "markdown",
   "metadata": {
    "slideshow": {
     "slide_type": "subslide"
    }
   },
   "source": [
    "Predict the test data."
   ]
  },
  {
   "cell_type": "code",
   "execution_count": 13,
   "metadata": {
    "collapsed": true
   },
   "outputs": [],
   "source": [
    "from sklearn.metrics import mean_squared_error\n",
    "\n",
    "# Calculate Neighbors Distance\n",
    "k = 5               # number ok k\n",
    "y_test_predict = [] # target yang diprediksi\n",
    "\n",
    "for x_unknown in X_test:\n",
    "    neighbors_distance = []\n",
    "    \n",
    "    for x_known in X_train:\n",
    "        neighbors_distance.append(euclideanDistance(x_unknown, x_known))\n",
    "        \n",
    "    neighbors_distance_sorted_with_target = sorted(zip(neighbors_distance, y_train))\n",
    "    \n",
    "    k_nearest_neighbors_target = [items[1] for items in neighbors_distance_sorted_with_target[:k]]\n",
    "\n",
    "    # bedanyan hanya di sini\n",
    "    # mean of knn : regression\n",
    "    y_test_predict.append(round(sum(k_nearest_neighbors_target)/k, 2))"
   ]
  },
  {
   "cell_type": "markdown",
   "metadata": {
    "slideshow": {
     "slide_type": "subslide"
    }
   },
   "source": [
    "Evaluate our prediction."
   ]
  },
  {
   "cell_type": "code",
   "execution_count": 14,
   "metadata": {},
   "outputs": [
    {
     "name": "stdout",
     "output_type": "stream",
     "text": [
      "37.378627451\n"
     ]
    }
   ],
   "source": [
    "print(mean_squared_error(y_test_predict, y_test))"
   ]
  },
  {
   "cell_type": "markdown",
   "metadata": {
    "slideshow": {
     "slide_type": "subslide"
    }
   },
   "source": [
    "Compare with built-in functions from scikit-learn."
   ]
  },
  {
   "cell_type": "code",
   "execution_count": 15,
   "metadata": {},
   "outputs": [
    {
     "data": {
      "text/plain": [
       "37.378627450980389"
      ]
     },
     "execution_count": 15,
     "metadata": {},
     "output_type": "execute_result"
    }
   ],
   "source": [
    "from sklearn.neighbors import KNeighborsRegressor\n",
    "\n",
    "knn_reg = KNeighborsRegressor()\n",
    "knn_reg.fit(X_train, y_train)\n",
    "y_predict = knn_reg.predict(X_test)\n",
    "mean_squared_error(y_predict, y_test)"
   ]
  },
  {
   "cell_type": "markdown",
   "metadata": {
    "slideshow": {
     "slide_type": "slide"
    }
   },
   "source": [
    "# Class"
   ]
  },
  {
   "cell_type": "markdown",
   "metadata": {
    "slideshow": {
     "slide_type": "subslide"
    }
   },
   "source": [
    "https://jeffknupp.com/blog/2014/06/18/improve-your-python-python-classes-and-object-oriented-programming/"
   ]
  },
  {
   "cell_type": "markdown",
   "metadata": {
    "slideshow": {
     "slide_type": "-"
    }
   },
   "source": [
    "<img src=\"./image/class.jpg\" width=60%>"
   ]
  },
  {
   "cell_type": "markdown",
   "metadata": {
    "slideshow": {
     "slide_type": "slide"
    }
   },
   "source": [
    "# KNN with Class"
   ]
  },
  {
   "cell_type": "code",
   "execution_count": 16,
   "metadata": {
    "collapsed": true,
    "slideshow": {
     "slide_type": "subslide"
    }
   },
   "outputs": [],
   "source": [
    "class KNN:    \n",
    "    def __init__(self, n_neighbors=5):\n",
    "        self.n_neighbors = n_neighbors\n",
    "        \n",
    "    def fit(self, X, y):\n",
    "        self.X = X\n",
    "        self.y = y\n",
    "    \n",
    "    def euclideanDistance(self, l1, l2):\n",
    "        if (len(l1) != len(l2)):\n",
    "            raise ValueError('Different shape')\n",
    "        else:\n",
    "            dist = 0\n",
    "            for i in range(len(l1)):\n",
    "                dist += (l1[i]-l2[i])**2\n",
    "            \n",
    "            return dist**0.5\n",
    "            \n",
    "    \n",
    "    def predict(self, X):\n",
    "        y_predict = []\n",
    "        for x_unknown in X:\n",
    "            neighbors_distance = []\n",
    "            \n",
    "            for x_known in self.X:\n",
    "                neighbors_distance.append(self.euclideanDistance(x_unknown,x_known))\n",
    "            \n",
    "            neighbors_distance_sorted_with_label = sorted(zip(neighbors_distance,self.y))\n",
    "            \n",
    "            k_nearest_neighbors_label = [items[1] for items in neighbors_distance_sorted_with_label[:self.n_neighbors]]\n",
    "                \n",
    "            y_predict.append(max(set(k_nearest_neighbors_label), key=k_nearest_neighbors_label.count))\n",
    "        \n",
    "        return y_predict\n",
    "            \n",
    "    def score(self, X, y):\n",
    "        y_predict = self.predict(X)\n",
    "            \n",
    "        true_label = 0\n",
    "        for i in range(len(y)):\n",
    "            if (y_predict[i] == y[i]): true_label += 1\n",
    "\n",
    "        return(true_label/len(y))"
   ]
  },
  {
   "cell_type": "markdown",
   "metadata": {
    "slideshow": {
     "slide_type": "subslide"
    }
   },
   "source": [
    "Let's repeat what we did before but with that knn object above."
   ]
  },
  {
   "cell_type": "code",
   "execution_count": 17,
   "metadata": {
    "collapsed": true
   },
   "outputs": [],
   "source": [
    "data = datasets.load_iris()\n",
    "X = data.data\n",
    "y = data.target\n",
    "\n",
    "X_train, X_test, y_train, y_test = train_test_split(X, y, test_size=0.2, random_state=123)"
   ]
  },
  {
   "cell_type": "code",
   "execution_count": 18,
   "metadata": {
    "collapsed": true,
    "slideshow": {
     "slide_type": "fragment"
    }
   },
   "outputs": [],
   "source": [
    "knn = KNN()"
   ]
  },
  {
   "cell_type": "code",
   "execution_count": 19,
   "metadata": {
    "collapsed": true,
    "slideshow": {
     "slide_type": "fragment"
    }
   },
   "outputs": [],
   "source": [
    "knn.fit(X_train, y_train)"
   ]
  },
  {
   "cell_type": "code",
   "execution_count": 20,
   "metadata": {
    "slideshow": {
     "slide_type": "fragment"
    }
   },
   "outputs": [
    {
     "data": {
      "text/plain": [
       "0.9666666666666667"
      ]
     },
     "execution_count": 20,
     "metadata": {},
     "output_type": "execute_result"
    }
   ],
   "source": [
    "knn.score(X_test, y_test)"
   ]
  },
  {
   "cell_type": "markdown",
   "metadata": {
    "slideshow": {
     "slide_type": "slide"
    }
   },
   "source": [
    "# (a bit) Intro to Tensor"
   ]
  },
  {
   "cell_type": "markdown",
   "metadata": {
    "slideshow": {
     "slide_type": "subslide"
    }
   },
   "source": [
    "<center><img src=\"./image/tensor-1.jpg\" width=100%></center>"
   ]
  },
  {
   "cell_type": "markdown",
   "metadata": {
    "slideshow": {
     "slide_type": "subslide"
    }
   },
   "source": [
    "<center><img src=\"./image/tensor-2.jpg\" width=100%></center>"
   ]
  },
  {
   "cell_type": "markdown",
   "metadata": {
    "slideshow": {
     "slide_type": "slide"
    }
   },
   "source": [
    "# Let's optimize our KNN model with Tensor"
   ]
  },
  {
   "cell_type": "code",
   "execution_count": 21,
   "metadata": {
    "collapsed": true,
    "slideshow": {
     "slide_type": "subslide"
    }
   },
   "outputs": [],
   "source": [
    "import numpy as np\n",
    "import random\n",
    "\n",
    "class Knn():\n",
    "    def __init__(self, k, dist='euc'):\n",
    "        avDist = ['euc', 'manhattan']\n",
    "        if dist not in avDist:\n",
    "            raise ValueError('Gak ada distance-nya gan')\n",
    "        self.k = k\n",
    "        self.dist = dist\n",
    "    \n",
    "    def fit(self,data_known,label_known):\n",
    "        self.data_known = data_known\n",
    "        self.label_known = label_known\n",
    "        \n",
    "    def euc(self):\n",
    "        diff = self.data_known - self.data_unknown.reshape((self.data_unknown.shape[0],1,self.data_unknown.shape[1]))\n",
    "        return (diff**2).sum(2)\n",
    "    \n",
    "    def manhattan(self):\n",
    "        diff = self.data_known - self.data_unknown.reshape((self.data_unknown.shape[0],1,self.data_unknown.shape[1]))\n",
    "        return np.abs(diff).sum(2)\n",
    "    \n",
    "    def predict(self, data_unknown):\n",
    "        self.data_unknown = data_unknown\n",
    "        #sort label\n",
    "        if self.dist == 'euc':\n",
    "            dist_index = np.argsort(self.euc())\n",
    "        else:\n",
    "            dist_index = np.argsort(self.manhattan())\n",
    "        \n",
    "        label = self.label_known[dist_index]\n",
    "        #only pick until kth index\n",
    "        label = label[:,:self.k]\n",
    "        #return the mode\n",
    "        label_predict = []\n",
    "        for i in range(self.data_unknown.shape[0]):\n",
    "            values,counts =  np.unique(label[i], return_counts=True)\n",
    "            ind = np.argmax(counts)\n",
    "            label_predict.append(values[ind])\n",
    "        return label_predict\n",
    "    \n",
    "def split(data_known,label_known,training_percentage):\n",
    "    #data_set and label is static\n",
    "    data_set = data_known\n",
    "    label = label_known\n",
    "    #take percentage*len(data)\n",
    "    index = random.sample(range(len(data_known)),int(training_percentage*len(data_known)))\n",
    "    data_known = data_set[index]\n",
    "    label_known =  label[index]\n",
    "    data_unknown = np.delete(data_set, index, axis=0)\n",
    "    label_unknown = np.delete(label, index, axis=0)\n",
    "    return (data_known,label_known,data_unknown,label_unknown)"
   ]
  },
  {
   "cell_type": "markdown",
   "metadata": {
    "slideshow": {
     "slide_type": "subslide"
    }
   },
   "source": [
    "Now, we use digits dataset (MNIST). We will try to classify digits based on hand-written images."
   ]
  },
  {
   "cell_type": "code",
   "execution_count": 22,
   "metadata": {
    "collapsed": true,
    "slideshow": {
     "slide_type": ""
    }
   },
   "outputs": [],
   "source": [
    "digits = datasets.load_digits()\n",
    "\n",
    "data_known = digits.data\n",
    "label_known = digits.target\n",
    "\n",
    "data_known,label_known,data_unknown,label_unknown = split(data_known,label_known,0.8)"
   ]
  },
  {
   "cell_type": "code",
   "execution_count": 23,
   "metadata": {
    "slideshow": {
     "slide_type": "subslide"
    }
   },
   "outputs": [
    {
     "data": {
      "image/png": "[encoded data removed]",
      "text/plain": [
       "<matplotlib.figure.Figure at 0x26e78aa5160>"
      ]
     },
     "metadata": {},
     "output_type": "display_data"
    }
   ],
   "source": [
    "import matplotlib.pyplot as plt\n",
    "%matplotlib inline\n",
    "\n",
    "plt.figure(1, figsize=(3, 3))\n",
    "plt.imshow(data_known[1].reshape((8,8)), cmap=plt.cm.gray_r, interpolation='nearest')\n",
    "plt.show()"
   ]
  },
  {
   "cell_type": "markdown",
   "metadata": {
    "slideshow": {
     "slide_type": "subslide"
    }
   },
   "source": [
    "Calculate the speed time with our optimized-knn model."
   ]
  },
  {
   "cell_type": "code",
   "execution_count": 24,
   "metadata": {
    "slideshow": {
     "slide_type": ""
    }
   },
   "outputs": [
    {
     "name": "stdout",
     "output_type": "stream",
     "text": [
      "0.986111111111\n",
      "0.560798054059497\n"
     ]
    }
   ],
   "source": [
    "import timeit\n",
    "\n",
    "start = timeit.default_timer()\n",
    "\n",
    "k=5\n",
    "knn = Knn(k)\n",
    "knn.fit(data_known,label_known)\n",
    "label_predict = knn.predict(data_unknown)\n",
    "performance = np.mean(label_predict == label_unknown)\n",
    "print(performance)\n",
    "\n",
    "stop = timeit.default_timer()\n",
    "print(stop - start)"
   ]
  },
  {
   "cell_type": "markdown",
   "metadata": {
    "slideshow": {
     "slide_type": "subslide"
    }
   },
   "source": [
    "Compare with our previous class knn model."
   ]
  },
  {
   "cell_type": "code",
   "execution_count": 25,
   "metadata": {
    "slideshow": {
     "slide_type": "fragment"
    }
   },
   "outputs": [
    {
     "name": "stdout",
     "output_type": "stream",
     "text": [
      "0.9861111111111112\n",
      "26.36056389949274\n"
     ]
    }
   ],
   "source": [
    "start = timeit.default_timer()\n",
    "\n",
    "knn = KNN(n_neighbors=k)\n",
    "knn.fit(data_known, label_known)\n",
    "performance = knn.score(data_unknown, label_unknown)\n",
    "\n",
    "print(performance)\n",
    "\n",
    "stop = timeit.default_timer()\n",
    "\n",
    "print(stop - start)"
   ]
  },
  {
   "cell_type": "markdown",
   "metadata": {
    "slideshow": {
     "slide_type": "subslide"
    }
   },
   "source": [
    "Last, let's compare it with built-in functions from scikit-learn."
   ]
  },
  {
   "cell_type": "code",
   "execution_count": 26,
   "metadata": {
    "slideshow": {
     "slide_type": "fragment"
    }
   },
   "outputs": [
    {
     "name": "stdout",
     "output_type": "stream",
     "text": [
      "0.986111111111\n",
      "0.07985831259378529\n"
     ]
    }
   ],
   "source": [
    "start = timeit.default_timer()\n",
    "\n",
    "knn = KNeighborsClassifier(n_neighbors=k)\n",
    "knn.fit(data_known, label_known)\n",
    "performance = knn.score(data_unknown, label_unknown)\n",
    "\n",
    "print(performance)\n",
    "\n",
    "stop = timeit.default_timer()\n",
    "\n",
    "print(stop - start)"
   ]
  },
  {
   "cell_type": "markdown",
   "metadata": {
    "slideshow": {
     "slide_type": "slide"
    }
   },
   "source": [
    "# Find the best k"
   ]
  },
  {
   "cell_type": "markdown",
   "metadata": {
    "slideshow": {
     "slide_type": "subslide"
    }
   },
   "source": [
    "<img src=\"./image/knn-size.png\" width=100%>"
   ]
  },
  {
   "cell_type": "code",
   "execution_count": 27,
   "metadata": {
    "collapsed": true,
    "slideshow": {
     "slide_type": "subslide"
    }
   },
   "outputs": [],
   "source": [
    "val_accuracy = []\n",
    "for i in np.arange(1,50):\n",
    "    knn = Knn(i)\n",
    "    knn.fit(data_known,label_known)\n",
    "    label_predict = knn.predict(data_unknown)\n",
    "    performance = np.mean(label_predict == label_unknown)\n",
    "    val_accuracy.append(performance)"
   ]
  },
  {
   "cell_type": "code",
   "execution_count": 28,
   "metadata": {
    "slideshow": {
     "slide_type": "subslide"
    }
   },
   "outputs": [
    {
     "data": {
      "text/plain": [
       "[<matplotlib.lines.Line2D at 0x26e00042668>]"
      ]
     },
     "execution_count": 28,
     "metadata": {},
     "output_type": "execute_result"
    },
    {
     "data": {
      "image/png": "[encoded data removed]",
      "text/plain": [
       "<matplotlib.figure.Figure at 0x26e78bfde48>"
      ]
     },
     "metadata": {},
     "output_type": "display_data"
    }
   ],
   "source": [
    "plt.title('accuracy vs k plot of digit recognition')\n",
    "plt.xlabel('k')\n",
    "plt.ylabel('accuracy')\n",
    "plt.ylim([0.87,1])\n",
    "plt.plot(val_accuracy)"
   ]
  },
  {
   "cell_type": "markdown",
   "metadata": {
    "slideshow": {
     "slide_type": "slide"
    }
   },
   "source": [
    "# References"
   ]
  },
  {
   "cell_type": "markdown",
   "metadata": {},
   "source": [
    "1. http://dataaspirant.com/2014/09/27/classification-and-prediction/\n",
    "1. http://www.saedsayad.com/k_nearest_neighbors.htm\n",
    "1. https://kevinzakka.github.io/2016/07/13/k-nearest-neighbor/#what-is-knn\n",
    "1. https://stats.stackexchange.com/questions/237100/why-knn-and-svm-with-a-gaussian-are-non-parametric-models\n",
    "1. https://github.com/amajidsinar/vanilla-ml/\n",
    "1. https://chrisalbon.com/machine_learning/nearest_neighbors/identifying_best_value_of_k/"
   ]
  },
  {
   "cell_type": "markdown",
   "metadata": {
    "slideshow": {
     "slide_type": "slide"
    }
   },
   "source": [
    "# Thank you! 🙏🙇‍"
   ]
  }
 ],
 "metadata": {
  "anaconda-cloud": {},
  "celltoolbar": "Slideshow",
  "kernelspec": {
   "display_name": "Python 3",
   "language": "python",
   "name": "python3"
  },
  "language_info": {
   "codemirror_mode": {
    "name": "ipython",
    "version": 3
   },
   "file_extension": ".py",
   "mimetype": "text/x-python",
   "name": "python",
   "nbconvert_exporter": "python",
   "pygments_lexer": "ipython3",
   "version": "3.5.3"
  }
 },
 "nbformat": 4,
 "nbformat_minor": 1
}
